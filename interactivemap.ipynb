{
 "cells": [
  {
   "cell_type": "code",
   "execution_count": 1,
   "metadata": {},
   "outputs": [],
   "source": [
    "# Import needed libraries\n",
    "import folium\n",
    "import pandas as pd\n",
    "import geopandas as gpd\n",
    "from pyproj import CRS\n",
    "import matplotlib.pyplot as plt\n",
    "import contextily as ctx"
   ]
  },
  {
   "cell_type": "code",
   "execution_count": 2,
   "metadata": {},
   "outputs": [],
   "source": [
    "# Filepaths\n",
    "mapdata_fp = \"data/maakunnat_2021_milj.shp\"\n",
    "info_fp = \"data/info.txt\"\n",
    "for_tooltips_fp = \"data/pop_data.geojson\"\n",
    "\n",
    "# Read files\n",
    "mapdata = gpd.read_file(mapdata_fp)\n",
    "info = pd.read_csv(info_fp, sep=';')\n",
    "for_tooltips = gpd.read_file(for_tooltips_fp)"
   ]
  },
  {
   "cell_type": "code",
   "execution_count": 3,
   "metadata": {},
   "outputs": [],
   "source": [
    "# Merge data sets\n",
    "data = mapdata.merge(info, left_on='NAMEFIN', right_on='name')"
   ]
  },
  {
   "cell_type": "code",
   "execution_count": 4,
   "metadata": {},
   "outputs": [],
   "source": [
    "# Re-project to WGS84\n",
    "data = data.to_crs(epsg=4326)"
   ]
  },
  {
   "cell_type": "code",
   "execution_count": 5,
   "metadata": {},
   "outputs": [],
   "source": [
    "data['pop_den'] = data['pop_den'].astype(float)"
   ]
  },
  {
   "cell_type": "code",
   "execution_count": 6,
   "metadata": {},
   "outputs": [],
   "source": [
    "output_fp3 = 'data/pop_data.geojson'\n",
    "data.to_file(output_fp3, driver='GeoJSON')\n",
    "\n",
    "import mapclassify\n",
    "# Plot figure\n",
    "data['geoid'] = data.index.astype(str)\n",
    "\n",
    "m = folium.Map(location=[65, 25], zoom_start=5)\n",
    "\n",
    "bins = [1.9, 3.5, 11.3, 16.3, 23.8, 27.5, 32.8, 41.6, 45.2, 187.5]\n",
    "folium.Choropleth(geo_data = data,\n",
    "                  data = data,\n",
    "                  columns=['geoid','pop_den'],\n",
    "                  key_on='feature.id',\n",
    "                  fill_color='OrRd',\n",
    "                  line_color='black',\n",
    "                  line_weight=1,\n",
    "                  bins=bins,\n",
    "                  legend_name= 'Population density in Finland (person per square kilometer)').add_to(m)\n",
    "\n",
    "folium.features.GeoJson(for_tooltips,  \n",
    "                        name='Labels',\n",
    "                        style_function=lambda x: {'color':'transparent','fillColor':'transparent','weight':0},\n",
    "                        tooltip=folium.features.GeoJsonTooltip(fields=['NAMEFIN','pop_den'],\n",
    "                                                                aliases = ['Region','Persons/km2'],\n",
    "                                                                labels=True,\n",
    "                                                                sticky=False,)\n",
    "                                                               ).add_to(m)\n",
    "\n",
    "outfp = \"data/interactivemap.html\"\n",
    "m.save(outfp)"
   ]
  },
  {
   "cell_type": "code",
   "execution_count": null,
   "metadata": {},
   "outputs": [],
   "source": []
  }
 ],
 "metadata": {
  "kernelspec": {
   "display_name": "Python 3",
   "language": "python",
   "name": "python3"
  },
  "language_info": {
   "codemirror_mode": {
    "name": "ipython",
    "version": 3
   },
   "file_extension": ".py",
   "mimetype": "text/x-python",
   "name": "python",
   "nbconvert_exporter": "python",
   "pygments_lexer": "ipython3",
   "version": "3.8.6"
  }
 },
 "nbformat": 4,
 "nbformat_minor": 4
}
