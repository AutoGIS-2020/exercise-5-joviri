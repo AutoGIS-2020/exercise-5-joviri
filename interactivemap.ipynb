{
 "cells": [
  {
   "cell_type": "code",
   "execution_count": 1,
   "metadata": {},
   "outputs": [],
   "source": [
    "# Import needed libraries\n",
    "import pandas as pd\n",
    "import geopandas as gpd\n",
    "from pyproj import CRS\n",
    "import matplotlib.pyplot as plt\n",
    "import contextily as ctx"
   ]
  },
  {
   "cell_type": "code",
   "execution_count": 2,
   "metadata": {},
   "outputs": [],
   "source": [
    "# Filepaths\n",
    "mapdata_fp = \"data/maakunnat_2021_milj.shp\"\n",
    "info_fp = \"data/info.txt\"\n",
    "\n",
    "# Read files\n",
    "mapdata = gpd.read_file(mapdata_fp)\n",
    "info = pd.read_csv(info_fp, sep=';')"
   ]
  },
  {
   "cell_type": "code",
   "execution_count": 3,
   "metadata": {},
   "outputs": [],
   "source": [
    "# Merge data sets\n",
    "data = mapdata.merge(info, left_on='NAMEFIN', right_on='name')"
   ]
  },
  {
   "cell_type": "code",
   "execution_count": null,
   "metadata": {},
   "outputs": [],
   "source": [
    "# Plot figure\n",
    "fig, ax = plt.subplots(figsize=(5,10))\n",
    "\n",
    "data.plot(ax=ax, \n",
    "          column=\"pop_den\", \n",
    "          cmap=\"OrRd\",\n",
    "          scheme=\"natural_breaks\",\n",
    "          k=8, \n",
    "          legend=True,\n",
    "          )\n",
    "\n",
    "# Set legend\n",
    "ax.get_legend().set_bbox_to_anchor((1.14,1))\n",
    "ax.get_legend().set_title(\"Population density \\n(per square kilometers)\")\n",
    "\n",
    "# Save figure\n",
    "output_fp = 'docs/staticmap'\n",
    "plt.savefig(output_fp)"
   ]
  }
 ],
 "metadata": {
  "kernelspec": {
   "display_name": "Python 3",
   "language": "python",
   "name": "python3"
  },
  "language_info": {
   "codemirror_mode": {
    "name": "ipython",
    "version": 3
   },
   "file_extension": ".py",
   "mimetype": "text/x-python",
   "name": "python",
   "nbconvert_exporter": "python",
   "pygments_lexer": "ipython3",
   "version": "3.8.6"
  }
 },
 "nbformat": 4,
 "nbformat_minor": 4
}
