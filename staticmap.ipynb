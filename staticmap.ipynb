{
 "cells": [
  {
   "cell_type": "code",
   "execution_count": 33,
   "metadata": {},
   "outputs": [],
   "source": [
    "# Import needed libraries\n",
    "import pandas as pd\n",
    "import geopandas as gpd\n",
    "from pyproj import CRS\n",
    "import matplotlib.pyplot as plt"
   ]
  },
  {
   "cell_type": "code",
   "execution_count": 34,
   "metadata": {},
   "outputs": [],
   "source": [
    "# Filepaths\n",
    "mapdata_fp = \"data/maakunnat_2021_milj.shp\"\n",
    "info_fp = \"data/info.txt\"\n",
    "\n",
    "# Read files\n",
    "mapdata = gpd.read_file(mapdata_fp)\n",
    "info = pd.read_csv(info_fp, sep=';')"
   ]
  },
  {
   "cell_type": "code",
   "execution_count": 35,
   "metadata": {},
   "outputs": [
    {
     "data": {
      "text/html": [
       "<div>\n",
       "<style scoped>\n",
       "    .dataframe tbody tr th:only-of-type {\n",
       "        vertical-align: middle;\n",
       "    }\n",
       "\n",
       "    .dataframe tbody tr th {\n",
       "        vertical-align: top;\n",
       "    }\n",
       "\n",
       "    .dataframe thead th {\n",
       "        text-align: right;\n",
       "    }\n",
       "</style>\n",
       "<table border=\"1\" class=\"dataframe\">\n",
       "  <thead>\n",
       "    <tr style=\"text-align: right;\">\n",
       "      <th></th>\n",
       "      <th>GML_ID</th>\n",
       "      <th>NATCODE</th>\n",
       "      <th>NAMEFIN</th>\n",
       "      <th>NAMESWE</th>\n",
       "      <th>geometry</th>\n",
       "    </tr>\n",
       "  </thead>\n",
       "  <tbody>\n",
       "    <tr>\n",
       "      <th>0</th>\n",
       "      <td>1601210003</td>\n",
       "      <td>02</td>\n",
       "      <td>Varsinais-Suomi</td>\n",
       "      <td>Egentliga Finland</td>\n",
       "      <td>MULTIPOLYGON (((325493.682 6710711.926, 320774...</td>\n",
       "    </tr>\n",
       "    <tr>\n",
       "      <th>1</th>\n",
       "      <td>1601210007</td>\n",
       "      <td>05</td>\n",
       "      <td>Kanta-Häme</td>\n",
       "      <td>Egentliga Tavastland</td>\n",
       "      <td>POLYGON ((370959.922 6727103.778, 369728.766 6...</td>\n",
       "    </tr>\n",
       "    <tr>\n",
       "      <th>2</th>\n",
       "      <td>1601210025</td>\n",
       "      <td>14</td>\n",
       "      <td>Etelä-Pohjanmaa</td>\n",
       "      <td>Södra Österbotten</td>\n",
       "      <td>POLYGON ((311807.830 6925403.748, 310933.466 6...</td>\n",
       "    </tr>\n",
       "    <tr>\n",
       "      <th>3</th>\n",
       "      <td>1601210035</td>\n",
       "      <td>19</td>\n",
       "      <td>Lappi</td>\n",
       "      <td>Lappland</td>\n",
       "      <td>MULTIPOLYGON (((461616.220 7300363.885, 451429...</td>\n",
       "    </tr>\n",
       "    <tr>\n",
       "      <th>4</th>\n",
       "      <td>1601210021</td>\n",
       "      <td>12</td>\n",
       "      <td>Pohjois-Karjala</td>\n",
       "      <td>Norra Karelen</td>\n",
       "      <td>POLYGON ((677428.002 6879448.534, 676829.129 6...</td>\n",
       "    </tr>\n",
       "  </tbody>\n",
       "</table>\n",
       "</div>"
      ],
      "text/plain": [
       "       GML_ID NATCODE          NAMEFIN               NAMESWE  \\\n",
       "0  1601210003      02  Varsinais-Suomi     Egentliga Finland   \n",
       "1  1601210007      05       Kanta-Häme  Egentliga Tavastland   \n",
       "2  1601210025      14  Etelä-Pohjanmaa     Södra Österbotten   \n",
       "3  1601210035      19            Lappi              Lappland   \n",
       "4  1601210021      12  Pohjois-Karjala         Norra Karelen   \n",
       "\n",
       "                                            geometry  \n",
       "0  MULTIPOLYGON (((325493.682 6710711.926, 320774...  \n",
       "1  POLYGON ((370959.922 6727103.778, 369728.766 6...  \n",
       "2  POLYGON ((311807.830 6925403.748, 310933.466 6...  \n",
       "3  MULTIPOLYGON (((461616.220 7300363.885, 451429...  \n",
       "4  POLYGON ((677428.002 6879448.534, 676829.129 6...  "
      ]
     },
     "execution_count": 35,
     "metadata": {},
     "output_type": "execute_result"
    }
   ],
   "source": [
    "mapdata.head()"
   ]
  },
  {
   "cell_type": "code",
   "execution_count": 37,
   "metadata": {},
   "outputs": [
    {
     "data": {
      "text/plain": [
       "Index(['GML_ID', 'NATCODE', 'NAMEFIN', 'NAMESWE', 'geometry'], dtype='object')"
      ]
     },
     "execution_count": 37,
     "metadata": {},
     "output_type": "execute_result"
    }
   ],
   "source": [
    "mapdata.columns"
   ]
  },
  {
   "cell_type": "code",
   "execution_count": 38,
   "metadata": {},
   "outputs": [],
   "source": [
    "data = mapdata.merge(info, left_on='NAMEFIN', right_on='name')"
   ]
  },
  {
   "cell_type": "code",
   "execution_count": 42,
   "metadata": {},
   "outputs": [
    {
     "data": {
      "text/html": [
       "<div>\n",
       "<style scoped>\n",
       "    .dataframe tbody tr th:only-of-type {\n",
       "        vertical-align: middle;\n",
       "    }\n",
       "\n",
       "    .dataframe tbody tr th {\n",
       "        vertical-align: top;\n",
       "    }\n",
       "\n",
       "    .dataframe thead th {\n",
       "        text-align: right;\n",
       "    }\n",
       "</style>\n",
       "<table border=\"1\" class=\"dataframe\">\n",
       "  <thead>\n",
       "    <tr style=\"text-align: right;\">\n",
       "      <th></th>\n",
       "      <th>GML_ID</th>\n",
       "      <th>NATCODE</th>\n",
       "      <th>NAMEFIN</th>\n",
       "      <th>NAMESWE</th>\n",
       "      <th>geometry</th>\n",
       "      <th>name</th>\n",
       "      <th>pop_den</th>\n",
       "    </tr>\n",
       "  </thead>\n",
       "  <tbody>\n",
       "    <tr>\n",
       "      <th>0</th>\n",
       "      <td>1601210003</td>\n",
       "      <td>02</td>\n",
       "      <td>Varsinais-Suomi</td>\n",
       "      <td>Egentliga Finland</td>\n",
       "      <td>MULTIPOLYGON (((325493.682 6710711.926, 320774...</td>\n",
       "      <td>Varsinais-Suomi</td>\n",
       "      <td>45.2</td>\n",
       "    </tr>\n",
       "    <tr>\n",
       "      <th>1</th>\n",
       "      <td>1601210007</td>\n",
       "      <td>05</td>\n",
       "      <td>Kanta-Häme</td>\n",
       "      <td>Egentliga Tavastland</td>\n",
       "      <td>POLYGON ((370959.922 6727103.778, 369728.766 6...</td>\n",
       "      <td>Kanta-Häme</td>\n",
       "      <td>32.8</td>\n",
       "    </tr>\n",
       "    <tr>\n",
       "      <th>2</th>\n",
       "      <td>1601210025</td>\n",
       "      <td>14</td>\n",
       "      <td>Etelä-Pohjanmaa</td>\n",
       "      <td>Södra Österbotten</td>\n",
       "      <td>POLYGON ((311807.830 6925403.748, 310933.466 6...</td>\n",
       "      <td>Etelä-Pohjanmaa</td>\n",
       "      <td>14.3</td>\n",
       "    </tr>\n",
       "    <tr>\n",
       "      <th>3</th>\n",
       "      <td>1601210035</td>\n",
       "      <td>19</td>\n",
       "      <td>Lappi</td>\n",
       "      <td>Lappland</td>\n",
       "      <td>MULTIPOLYGON (((461616.220 7300363.885, 451429...</td>\n",
       "      <td>Lappi</td>\n",
       "      <td>1.9</td>\n",
       "    </tr>\n",
       "    <tr>\n",
       "      <th>4</th>\n",
       "      <td>1601210021</td>\n",
       "      <td>12</td>\n",
       "      <td>Pohjois-Karjala</td>\n",
       "      <td>Norra Karelen</td>\n",
       "      <td>POLYGON ((677428.002 6879448.534, 676829.129 6...</td>\n",
       "      <td>Pohjois-Karjala</td>\n",
       "      <td>9.2</td>\n",
       "    </tr>\n",
       "  </tbody>\n",
       "</table>\n",
       "</div>"
      ],
      "text/plain": [
       "       GML_ID NATCODE          NAMEFIN               NAMESWE  \\\n",
       "0  1601210003      02  Varsinais-Suomi     Egentliga Finland   \n",
       "1  1601210007      05       Kanta-Häme  Egentliga Tavastland   \n",
       "2  1601210025      14  Etelä-Pohjanmaa     Södra Österbotten   \n",
       "3  1601210035      19            Lappi              Lappland   \n",
       "4  1601210021      12  Pohjois-Karjala         Norra Karelen   \n",
       "\n",
       "                                            geometry             name  pop_den  \n",
       "0  MULTIPOLYGON (((325493.682 6710711.926, 320774...  Varsinais-Suomi     45.2  \n",
       "1  POLYGON ((370959.922 6727103.778, 369728.766 6...       Kanta-Häme     32.8  \n",
       "2  POLYGON ((311807.830 6925403.748, 310933.466 6...  Etelä-Pohjanmaa     14.3  \n",
       "3  MULTIPOLYGON (((461616.220 7300363.885, 451429...            Lappi      1.9  \n",
       "4  POLYGON ((677428.002 6879448.534, 676829.129 6...  Pohjois-Karjala      9.2  "
      ]
     },
     "execution_count": 42,
     "metadata": {},
     "output_type": "execute_result"
    }
   ],
   "source": [
    "data.head()"
   ]
  },
  {
   "cell_type": "code",
   "execution_count": 44,
   "metadata": {},
   "outputs": [
    {
     "data": {
      "text/plain": [
       "<AxesSubplot:>"
      ]
     },
     "execution_count": 44,
     "metadata": {},
     "output_type": "execute_result"
    },
    {
     "data": {
      "image/png": "[encoded data removed]",
      "text/plain": [
       "<Figure size 720x360 with 1 Axes>"
      ]
     },
     "metadata": {
      "needs_background": "light"
     },
     "output_type": "display_data"
    }
   ],
   "source": [
    "fig, ax = plt.subplots(figsize=(10,5))\n",
    "\n",
    "data.plot(ax=ax, \n",
    "          column=\"pop_den\", \n",
    "          #linewidth=0.03, \n",
    "          #cmap=\"Spectral\", \n",
    "          #scheme=\"quantiles\", \n",
    "          #k=9, \n",
    "          #legend=True, \n",
    "          )"
   ]
  },
  {
   "cell_type": "code",
   "execution_count": null,
   "metadata": {},
   "outputs": [],
   "source": []
  }
 ],
 "metadata": {
  "kernelspec": {
   "display_name": "Python 3",
   "language": "python",
   "name": "python3"
  },
  "language_info": {
   "codemirror_mode": {
    "name": "ipython",
    "version": 3
   },
   "file_extension": ".py",
   "mimetype": "text/x-python",
   "name": "python",
   "nbconvert_exporter": "python",
   "pygments_lexer": "ipython3",
   "version": "3.8.6"
  }
 },
 "nbformat": 4,
 "nbformat_minor": 4
}
